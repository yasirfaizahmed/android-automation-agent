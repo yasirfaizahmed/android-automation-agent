{
 "cells": [
  {
   "cell_type": "code",
   "execution_count": 1,
   "id": "3bf0a711",
   "metadata": {},
   "outputs": [
    {
     "name": "stderr",
     "output_type": "stream",
     "text": [
      "/home/xd/Documents/ML_AI/android-automation-tester/.venv/lib/python3.12/site-packages/tqdm/auto.py:21: TqdmWarning: IProgress not found. Please update jupyter and ipywidgets. See https://ipywidgets.readthedocs.io/en/stable/user_install.html\n",
      "  from .autonotebook import tqdm as notebook_tqdm\n",
      "Loading checkpoint shards: 100%|██████████| 4/4 [00:04<00:00,  1.21s/it]\n",
      "Some parameters are on the meta device because they were offloaded to the cpu.\n",
      "Using a slow image processor as `use_fast` is unset and a slow processor was saved with this model. `use_fast=True` will be the default behavior in v4.52, even if the model was saved with a slow processor. This will result in minor differences in outputs. You'll still be able to use a slow processor with `use_fast=False`.\n",
      "You have video processor config saved in `preprocessor.json` file which is deprecated. Video processor configs should be saved in their own `video_preprocessor.json` file. You can rename the file or load and save the processor back which renames it automatically. Loading from `preprocessor.json` will be removed in v5.0.\n"
     ]
    }
   ],
   "source": [
    "from transformers import AutoModelForImageTextToText, AutoProcessor\n",
    "import torch\n",
    "model = AutoModelForImageTextToText.from_pretrained(\n",
    "    \"Hcompany/Holo1-7B\",\n",
    "    torch_dtype=torch.bfloat16,\n",
    "    attn_implementation=\"flash_attention_2\",\n",
    "    device_map=\"auto\",\n",
    ")\n",
    "\n",
    "processor = AutoProcessor.from_pretrained(\"Hcompany/Holo1-7B\")\n"
   ]
  },
  {
   "cell_type": "code",
   "execution_count": 2,
   "id": "f6506e71",
   "metadata": {},
   "outputs": [],
   "source": [
    "# navigation = navigation.NavigationStep(**json.loads(navigation_str))\n",
    "# print(navigation)\n",
    "# Expected NavigationStep(note='', thought='I need to select the check-out date as August 3rd and then proceed to search for hotels.', action=ClickElementAction(action='click_element', element='August 3rd on the calendar', x=777, y=282))"
   ]
  },
  {
   "cell_type": "code",
   "execution_count": 3,
   "id": "d1a0a82f",
   "metadata": {},
   "outputs": [],
   "source": [
    "# from PIL import Image\n",
    "# from transformers.models.qwen2_vl.image_processing_qwen2_vl import smart_resize\n",
    "# image_url = \"/home/xd/Documents/ML_AI/automation_modeling/test1.jpeg\"\n",
    "# image = Image.open(image_url)  # Load as PIL.Image\n",
    "\n",
    "# image_processor = processor.image_processor\n",
    "\n",
    "# Resize image using smart_resize\n",
    "# resized_height, resized_width = smart_resize(\n",
    "#     image.height,\n",
    "#     image.width,\n",
    "#     factor=image_processor.patch_size * image_processor.merge_size,\n",
    "#     min_pixels=image_processor.min_pixels,\n",
    "#     max_pixels=image_processor.max_pixels,\n",
    "# )\n",
    "\n",
    "# image = image.resize(size=(resized_width, resized_height), resample=Image.BICUBIC)\n"
   ]
  },
  {
   "cell_type": "code",
   "execution_count": 3,
   "id": "aa5a64ac",
   "metadata": {},
   "outputs": [
    {
     "name": "stdout",
     "output_type": "stream",
     "text": [
      "Click(275, 814)\n"
     ]
    }
   ],
   "source": [
    "from PIL import Image\n",
    "image_url = \"/home/xd/Documents/ML_AI/android-automation-tester/images/resized_portrait.jpg\" \n",
    "image = Image.open(image_url)  # Load as PIL.Image\n",
    "\n",
    "\n",
    "# guidelines = \"Localize an element on the GUI image according to my instructions and output a click position as Click(x, y) with x num pixels from the left edge and y num pixels from the top edge. The x, y must be exactly in the center of the GUI element\"\n",
    "# instruction = \"Select app icon battery percentage\"\n",
    "# messages = [\n",
    "#         {\n",
    "#             \"role\": \"user\",\n",
    "#             \"content\": [\n",
    "#                 {\n",
    "#                     \"type\": \"image\",\n",
    "#                     \"url\": image_url,\n",
    "#                 },\n",
    "#                 {\"type\": \"text\", \"text\": f\"{guidelines}\\n{instruction}\"},\n",
    "#             ],\n",
    "#         }\n",
    "#     ]\n",
    "\n",
    "# inputs = processor.apply_chat_template(\n",
    "#     messages,\n",
    "#     tokenize=True,\n",
    "#     add_generation_prompt=True,\n",
    "#     return_tensors=\"pt\",\n",
    "#     return_dict=True,\n",
    "# ).to(model.device)\n",
    "\n",
    "import localization\n",
    "from typing import Any\n",
    "\n",
    "\n",
    "# Helper function to run inference\n",
    "def run_inference(messages: list[dict[str, Any]]) -> str:\n",
    "    # Preparation for inference\n",
    "    text = processor.apply_chat_template(messages, tokenize=False, add_generation_prompt=True)\n",
    "    inputs = processor(\n",
    "        text=[text],\n",
    "        images=image,\n",
    "        padding=True,\n",
    "        return_tensors=\"pt\",\n",
    "    )\n",
    "    inputs = inputs.to(\"cuda\")\n",
    "\n",
    "    generated_ids = model.generate(**inputs, max_new_tokens=128)\n",
    "    generated_ids_trimmed = [out_ids[len(in_ids) :] for in_ids, out_ids in zip(inputs.input_ids, generated_ids)]\n",
    "    return processor.batch_decode(generated_ids_trimmed, skip_special_tokens=True, clean_up_tokenization_spaces=False)\n",
    "\n",
    "instruction = \"Select tide app\"\n",
    "prompt = localization.get_localization_prompt(image, instruction)\n",
    "coordinates = run_inference(prompt)[0]\n",
    "print(coordinates)\n",
    "# Expected Click(352, 348)\n"
   ]
  },
  {
   "cell_type": "code",
   "execution_count": null,
   "id": "2559bc4d",
   "metadata": {},
   "outputs": [],
   "source": [
    "# generated_ids = model.generate(**inputs, max_new_tokens=128)\n",
    "\n",
    "# decoded = processor.batch_decode(generated_ids, skip_special_tokens=True, clean_up_tokenization_spaces=False)\n",
    "\n",
    "# Click(352, 348)\n"
   ]
  },
  {
   "cell_type": "code",
   "execution_count": null,
   "id": "114c4b8a",
   "metadata": {},
   "outputs": [],
   "source": [
    "# decoded"
   ]
  }
 ],
 "metadata": {
  "kernelspec": {
   "display_name": ".venv",
   "language": "python",
   "name": "python3"
  },
  "language_info": {
   "codemirror_mode": {
    "name": "ipython",
    "version": 3
   },
   "file_extension": ".py",
   "mimetype": "text/x-python",
   "name": "python",
   "nbconvert_exporter": "python",
   "pygments_lexer": "ipython3",
   "version": "3.12.7"
  }
 },
 "nbformat": 4,
 "nbformat_minor": 5
}
